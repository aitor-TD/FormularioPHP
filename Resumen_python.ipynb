{
  "cells": [
    {
      "cell_type": "markdown",
      "metadata": {
        "id": "view-in-github",
        "colab_type": "text"
      },
      "source": [
        "<a href=\"https://colab.research.google.com/github/Ait0r2021/Formulario/blob/master/Resumen_python.ipynb\" target=\"_parent\"><img src=\"https://colab.research.google.com/assets/colab-badge.svg\" alt=\"Open In Colab\"/></a>"
      ]
    },
    {
      "cell_type": "markdown",
      "metadata": {
        "id": "-ctOstfs5HBp"
      },
      "source": [
        "# Markdown\n",
        "\n",
        "Primer cuaderno en collab\n"
      ]
    },
    {
      "cell_type": "code",
      "execution_count": null,
      "metadata": {
        "id": "GWRdAjNl5bwB"
      },
      "outputs": [],
      "source": [
        "a = 'Hola'\n",
        "b = 'Adios'"
      ]
    },
    {
      "cell_type": "code",
      "execution_count": null,
      "metadata": {
        "colab": {
          "base_uri": "https://localhost:8080/"
        },
        "id": "Ui7BZdr35pKJ",
        "outputId": "86b512e1-13da-459c-e06d-b59d7b8cc9f4"
      },
      "outputs": [
        {
          "name": "stdout",
          "output_type": "stream",
          "text": [
            "Hola Adios\n"
          ]
        }
      ],
      "source": [
        "print(a + ' ' +b) # Primero hay que ejecutar la orden de arriba para que las variables se creen"
      ]
    },
    {
      "cell_type": "markdown",
      "metadata": {
        "id": "ej42hTB-9RFx"
      },
      "source": [
        "# TIPOS DE DATOS EN PYTHON\n",
        "\n",
        "- Numéricos\n",
        "- Cadenas\n",
        "- Booleanos\n",
        "\n",
        "Las variables nos permiten darle nombre a los datos, estas almacenan datos, por lo que podremos usarlos más tarde en operaciones con código.\n",
        "- Las variables son mutables, por lo que siempre se les puede cambiar el contenido.\n",
        "- Las variables son 'key sensitive', es decir, la variable `Income` no es la misma que la variable `income`.\n",
        "- Una variable no puede empezar con un número, pero si pueden aparecer en el nombre.\n",
        "  - 1income `no` es válido.\n",
        "  - inco1me `sí` es válido."
      ]
    },
    {
      "cell_type": "markdown",
      "metadata": {
        "id": "Lvg0haM4--r8"
      },
      "source": [
        "## NÚMEROS\n",
        "\n",
        "Hay tres tipos de números en python: `enteros`, `decimales` y `números complejos`.\n",
        "\n"
      ]
    },
    {
      "cell_type": "markdown",
      "metadata": {
        "id": "Xk7DO1Dj_wHJ"
      },
      "source": [
        "# NÚMEROS ENTEROS"
      ]
    },
    {
      "cell_type": "code",
      "execution_count": null,
      "metadata": {
        "colab": {
          "base_uri": "https://localhost:8080/"
        },
        "id": "En4t-F2h9Ojq",
        "outputId": "f0ee293f-1de0-4285-9eeb-c040e59e8096"
      },
      "outputs": [
        {
          "name": "stdout",
          "output_type": "stream",
          "text": [
            "10\n",
            "-3000\n",
            "123456789\n",
            "-16000\n"
          ]
        }
      ],
      "source": [
        "print(10)  # A positive integer\n",
        "print(-3000)  # A negative integer\n",
        "\n",
        "num = 123456789  # Assigning an integer to a variable\n",
        "print(num)\n",
        "num = -16000  # Assigning a new integer\n",
        "print(num)"
      ]
    },
    {
      "cell_type": "markdown",
      "metadata": {
        "id": "UANULwzFADGh"
      },
      "source": [
        "# NÚMEROS DECIMALES"
      ]
    },
    {
      "cell_type": "code",
      "execution_count": null,
      "metadata": {
        "id": "ila1_1mqAHHK"
      },
      "outputs": [],
      "source": [
        "print(1.00000000005)  # A positive float\n",
        "print(-85.6701)  # A negative float\n",
        "\n",
        "flt_pt = 1.23456789\n",
        "print(flt_pt)"
      ]
    },
    {
      "cell_type": "markdown",
      "metadata": {
        "id": "9fm0goysAJuZ"
      },
      "source": [
        "# NÚMEROS COMPLEJOS\n",
        "\n",
        "Así se hace un número complejo:\n",
        "- `complex(real, imaginary)`"
      ]
    },
    {
      "cell_type": "code",
      "execution_count": null,
      "metadata": {
        "id": "NgbVY3OEAO4C"
      },
      "outputs": [],
      "source": [
        "print(complex(10, 20))  # Represents the complex number (10 + 20j)\n",
        "print(complex(2.5, -18.2))  # Represents the complex number (2.5 - 18.2j)\n",
        "\n",
        "complex_1 = complex(0, 2)\n",
        "complex_2 = complex(2, 0)\n",
        "print(complex_1)\n",
        "print(complex_2)"
      ]
    },
    {
      "cell_type": "markdown",
      "metadata": {
        "id": "Ps7Pbx9dA3Ak"
      },
      "source": [
        "# BOOLEANOS\n",
        "\n",
        "Los booleanos son variables que sólo pueden tomar `2` valores: `True` o `False`\n",
        "\n",
        "- IMPORTANTE\n",
        "Los booleanos en python tienen que tener la `PRIMERA` `letra` en `MAYÚSCULA`\n"
      ]
    },
    {
      "cell_type": "code",
      "execution_count": null,
      "metadata": {
        "colab": {
          "base_uri": "https://localhost:8080/"
        },
        "id": "QP94Ot-kBLOy",
        "outputId": "1daf9f28-30f4-4ceb-984d-37172917309e"
      },
      "outputs": [
        {
          "name": "stdout",
          "output_type": "stream",
          "text": [
            "True\n",
            "False\n"
          ]
        }
      ],
      "source": [
        "print(True)\n",
        "\n",
        "f_bool = False\n",
        "print(f_bool)"
      ]
    },
    {
      "cell_type": "markdown",
      "metadata": {
        "id": "YMLRFyI6B_oq"
      },
      "source": [
        "# CADENAS DE TEXTO\n",
        "\n",
        "Las cadenas de texto pueden estar vacías completamente o tener caracteres únicos, además, pueden ir cerradas por `comillas simples` o `comillas dobles`"
      ]
    },
    {
      "cell_type": "code",
      "execution_count": null,
      "metadata": {
        "colab": {
          "base_uri": "https://localhost:8080/"
        },
        "id": "QzAnNEDeCPS8",
        "outputId": "a7972d23-31cb-4ea7-f341-fead7aaa1bdf"
      },
      "outputs": [
        {
          "name": "stdout",
          "output_type": "stream",
          "text": [
            "Harry Potter!\n",
            "Game of Thrones...\n",
            "$\n",
            "\n",
            "Triple quotes allows\n",
            "multi-line string.\n"
          ]
        }
      ],
      "source": [
        "print(\"Harry Potter!\")  # Double quotation marks\n",
        "\n",
        "got = 'Game of Thrones...'  # Single quotation marks\n",
        "print(got)\n",
        "print(\"$\")  # Single character\n",
        "\n",
        "empty = \"\"\n",
        "print(empty)  # Just prints an empty line\n",
        "\n",
        "multiple_lines = '''Triple quotes allows\n",
        "multi-line string.'''\n",
        "print(multiple_lines)"
      ]
    },
    {
      "cell_type": "markdown",
      "metadata": {
        "id": "Y794ehjVCzSb"
      },
      "source": [
        "Para saber cuantos caracteres tiene una cadena de texto podemos usar la función `len()` (Los espacios también cuentan como caracteres, obviamente)\n",
        "- Las cadenas de texto en python se indexan `partiendo desde 0`, es decir, en la palabra HOLA, la `H` ocupa la `posición 0`."
      ]
    },
    {
      "cell_type": "code",
      "execution_count": null,
      "metadata": {
        "colab": {
          "base_uri": "https://localhost:8080/"
        },
        "id": "l5w-OGO1DImK",
        "outputId": "9bc2986e-dfa0-4e65-9de6-545a399b2e09"
      },
      "outputs": [
        {
          "name": "stdout",
          "output_type": "stream",
          "text": [
            "11\n"
          ]
        }
      ],
      "source": [
        "random_string = \"I am Batman\"  # 11 characters\n",
        "print(len(random_string))"
      ]
    },
    {
      "cell_type": "code",
      "execution_count": null,
      "metadata": {
        "colab": {
          "base_uri": "https://localhost:8080/"
        },
        "id": "b6FAxLOHDvMq",
        "outputId": "fc7601fb-e29e-46d6-eb25-597b9855fb53"
      },
      "outputs": [
        {
          "name": "stdout",
          "output_type": "stream",
          "text": [
            "B\n",
            " \n",
            "e\n"
          ]
        }
      ],
      "source": [
        "batman = \"Bruce Wayne\"\n",
        "\n",
        "first = batman[0]  # Accessing the first character\n",
        "print(first)\n",
        "\n",
        "space = batman[5]  # Accessing the empty space in the string\n",
        "print(space)\n",
        "\n",
        "last = batman[len(batman) - 1]\n",
        "print(last)\n",
        "# The following will produce an error since the index is out of bounds\n",
        "# err = batman[len(batman)]"
      ]
    },
    {
      "cell_type": "markdown",
      "metadata": {
        "id": "VLZzE9EFD4kK"
      },
      "source": [
        "Si usamos un `índice negativo`, accedemos a la cadena de `manera inversa`, es decir, desde el final.\n",
        "- El índice `-1` hace referencia al `último caracter` de la cadena."
      ]
    },
    {
      "cell_type": "code",
      "execution_count": null,
      "metadata": {
        "colab": {
          "base_uri": "https://localhost:8080/"
        },
        "id": "wCd_0AKBETWL",
        "outputId": "94b6af28-5e05-42c0-d868-0176b0238529"
      },
      "outputs": [
        {
          "name": "stdout",
          "output_type": "stream",
          "text": [
            "e\n",
            "W\n"
          ]
        }
      ],
      "source": [
        "batman = \"Bruce Wayne\"\n",
        "print(batman[-1])  # Corresponds to batman[10]\n",
        "print(batman[-5])  # Corresponds to batman[6]"
      ]
    },
    {
      "cell_type": "markdown",
      "metadata": {
        "id": "YfUfC_S0Fekj"
      },
      "source": [
        "# LA PALABRA NONE\n",
        "\n",
        "Python nos ofrece otro tipo de dato llamado NoneType, solo tiene un valor, NONE.\n",
        " A TENER EN CUENTA\n",
        "  - None `no` es el valor `default` de una variable a la que no se le ha asignado valor todavía.\n",
        "  - None `no` es lo mismo que `false`.\n",
        "  - None `no` es una `cadena vacía`.\n",
        "  - None `no` es `0`"
      ]
    },
    {
      "cell_type": "code",
      "execution_count": null,
      "metadata": {
        "colab": {
          "base_uri": "https://localhost:8080/"
        },
        "id": "GAT41zwZG06b",
        "outputId": "828a811b-232b-44ee-b61f-cb25a323f625"
      },
      "outputs": [
        {
          "name": "stdout",
          "output_type": "stream",
          "text": [
            "None\n",
            "<class 'NoneType'>\n"
          ]
        }
      ],
      "source": [
        "val = None\n",
        "print(val) # prints \"None\" and returns None\n",
        "print (type(val))"
      ]
    },
    {
      "cell_type": "markdown",
      "metadata": {
        "id": "OCFryElMHIp0"
      },
      "source": [
        "# DIVISIÓN DE CADENAS DE TEXTO\n",
        "\n",
        "Es el proceso por el cual se obtiene una *`'substring'`* de una *`'string'`* original.\n",
        "\n",
        "La sintáxis sería así: `string[start:end]`.\n",
        "- `start` es el índice por el cual quieres empezar a dividir.\n",
        "- `end` es por donde quieres acabar la división de la cadena."
      ]
    },
    {
      "cell_type": "code",
      "execution_count": null,
      "metadata": {
        "colab": {
          "base_uri": "https://localhost:8080/"
        },
        "id": "JRVxbzi0IlDM",
        "outputId": "ac586e95-6a62-4f58-926c-63352af8b9ba"
      },
      "outputs": [
        {
          "name": "stdout",
          "output_type": "stream",
          "text": [
            "This\n",
            "his is\n",
            "MY string!\n"
          ]
        }
      ],
      "source": [
        "my_string = \"This is MY string!\"\n",
        "print(my_string[0:4]) # From the start till before the 4th index\n",
        "print(my_string[1:7])\n",
        "print(my_string[8:len(my_string)]) # From the 8th index till the end"
      ]
    },
    {
      "cell_type": "markdown",
      "metadata": {
        "id": "KGEHZP55JDsy"
      },
      "source": [
        "También se pueden cortar cadenas de texto usando *`'steps'`*, es decir, cada cuánto se corta la cadena.\n",
        "- El número de *`steps`* se pone detrás del *`end`*.\n",
        "- Se pondría así: `string[start:end:step]`\n",
        "\n",
        "Asimismo se puede dividir en orden inverso, se `intercambia la posición del inicio y del fin` de la división y los *`'steps'`* son números negativos.\n",
        "\n"
      ]
    },
    {
      "cell_type": "code",
      "execution_count": null,
      "metadata": {
        "colab": {
          "base_uri": "https://localhost:8080/"
        },
        "id": "tNpRosC2TT4F",
        "outputId": "6f95d259-e9f0-4541-a2a0-f03d65f6d219"
      },
      "outputs": [
        {
          "name": "stdout",
          "output_type": "stream",
          "text": [
            "rts YM si s\n",
            "!nrsY ish\n"
          ]
        }
      ],
      "source": [
        "my_string = \"This is MY string!\"\n",
        "print(my_string[13:2:-1]) # Take 1 step back each time\n",
        "print(my_string[17:0:-2]) # Take 2 steps back. The opposite of what happens in the slide above"
      ]
    },
    {
      "cell_type": "markdown",
      "metadata": {
        "id": "8mXHhUTCXNcN"
      },
      "source": [
        "También se puede dividir parcialmente, los índices de `start` y `end` son opcionales, es decir, que si no se pone el índice del `end` la división de la cadena acaba al `final de la cadena`, lo mismo pasa con el `start`, si no se pone la división de la cadena llegará hasta el índice del `end`."
      ]
    },
    {
      "cell_type": "code",
      "execution_count": null,
      "metadata": {
        "colab": {
          "base_uri": "https://localhost:8080/"
        },
        "id": "n_CNl_7vYTpX",
        "outputId": "9e113f3c-ada4-469e-c55e-57c8ab448924"
      },
      "outputs": [
        {
          "name": "stdout",
          "output_type": "stream",
          "text": [
            "This is \n",
            "MY string!\n",
            "This is MY string!\n",
            "!gnirts YM si sihT\n"
          ]
        }
      ],
      "source": [
        "my_string = \"This is MY string!\"\n",
        "print(my_string[:8])  # All the characters before 'M'\n",
        "print(my_string[8:])  # All the characters starting from 'M'\n",
        "print(my_string[:])  # The whole string\n",
        "print(my_string[::-1])  # The whole string in reverse (step is -1)"
      ]
    },
    {
      "cell_type": "markdown",
      "metadata": {
        "id": "bF4QgIncZI42"
      },
      "source": [
        "# FORMATEO DE CADENAS DE TEXTO\n",
        "\n",
        "El formateo de cadenas significa sustituir valores dentro de una cadena, hay varios tipos de formateo.\n",
        "- Insertar `cadenas` dentro de cadenas.\n",
        "- Insertar `números enteros` dentro de cadenas.\n",
        "- Insertar `números decimales` dentro de cadenas."
      ]
    },
    {
      "cell_type": "markdown",
      "metadata": {
        "id": "RDhMm2VVaSGN"
      },
      "source": [
        "# INSERTAR CADENAS DENTRO DE CADENAS\n",
        "\n",
        "Se usa `%s` para `añadir texto`."
      ]
    },
    {
      "cell_type": "code",
      "execution_count": null,
      "metadata": {
        "id": "mKblXKl9aZYX"
      },
      "outputs": [],
      "source": [
        "string1 = \"I like %s\" % \"Python\"\n",
        "print(string1) # 'I like Python'\n",
        "\n",
        "temp = \"Educative\"\n",
        "string2 = \"I like %s\" % temp\n",
        "print(string2) # 'I like Educative'\n",
        "\n",
        "string3 = \"I like %s and %s and %s\" % (\"Python\", temp, 'hey')\n",
        "print(string3)  # 'I like Python and Educative'"
      ]
    },
    {
      "cell_type": "markdown",
      "metadata": {
        "id": "PtzogD9kaa_l"
      },
      "source": [
        "# INSERTAR NÚMEROS DENTRO DE CADENAS\n",
        "\n",
        "Se usa `%i` para añadir `números enteros`."
      ]
    },
    {
      "cell_type": "code",
      "execution_count": null,
      "metadata": {
        "id": "SxlkzB2wa95D"
      },
      "outputs": [],
      "source": [
        "my_string = \"%i + %i = %i\" % (1,2,3)\n",
        "print(my_string) # '1 + 2 = 3'"
      ]
    },
    {
      "cell_type": "markdown",
      "metadata": {
        "id": "scBOOnVibG8O"
      },
      "source": [
        "# INSERTAR NÚMEROS DECIMALES DENTRO DE CADENAS\n",
        "\n",
        "Se usa `%f` para añadir `números decimales`, se pueden poner límite de decimales con `%.2f` por ejemplo, esto limita los decimales a 2, redondeando."
      ]
    },
    {
      "cell_type": "code",
      "execution_count": null,
      "metadata": {
        "id": "XetWqSCybyK1"
      },
      "outputs": [],
      "source": [
        "string1 = \"%f\" % (1.11)\n",
        "print(string1) # '1.110000'\n",
        "\n",
        "string2 = \"%.2f\" % (1.11)\n",
        "print(string2) # '1.11'\n",
        "\n",
        "string3 = \"%.2f\" % (1.117)\n",
        "print(string3) # '1.12'"
      ]
    },
    {
      "cell_type": "markdown",
      "metadata": {
        "id": "nDbFe-i7cKTF"
      },
      "source": [
        "# OPERADORES\n",
        "\n",
        "Los operadores se usan para hacer `operaciones lógicas y matemáticas` con los datos.\n",
        "Los operadores están representados por `caracteres o palabras especiales`.\n",
        "\n",
        "Hay 5 tipos de operadores en python:\n",
        "- Operadores `aritméticos`.\n",
        "- Operadores de `comparación`.\n",
        "- Operadores de `asignación`.\n",
        "- Operadores `lógicos`.\n",
        "- Operador `bit a bit`."
      ]
    },
    {
      "cell_type": "markdown",
      "metadata": {
        "id": "J25BXC-Aon5U"
      },
      "source": [
        "# OPERADORES ARITMÉTICOS\n",
        "\n",
        "Hay varios tipos de operadores aritméticos:\n",
        "- `( )` - parentesis - encapsula la operación que hay dentro.\n",
        "- `**` - Exponente.\n",
        "- `%` , `*` , `/` , `//` - Módulo, multiplicación, división, división a la baja.\n",
        "- `+` , `-` - Suma, resta."
      ]
    },
    {
      "cell_type": "markdown",
      "metadata": {
        "id": "s674NsqgprwW"
      },
      "source": [
        " - **Suma**\n",
        "\n",
        "Podemos sumar 2 números usando el operador `+`:"
      ]
    },
    {
      "cell_type": "code",
      "execution_count": null,
      "metadata": {
        "id": "ip6p5Oerp49p"
      },
      "outputs": [],
      "source": [
        "print(10 + 5)\n",
        "\n",
        "float1 = 13.65\n",
        "float2 = 3.40\n",
        "print(float1 + float2)\n",
        "\n",
        "num = 20\n",
        "flt = 10.5\n",
        "print(num + flt)"
      ]
    },
    {
      "cell_type": "markdown",
      "metadata": {
        "id": "RlZKGCxmp_Jw"
      },
      "source": [
        "- **Resta**\n",
        "\n",
        "Podemos restar 2 números usando el operador `-`:"
      ]
    },
    {
      "cell_type": "code",
      "execution_count": null,
      "metadata": {
        "id": "qB-kqg_sqMUL"
      },
      "outputs": [],
      "source": [
        "print(10 - 5)\n",
        "\n",
        "float1 = -18.678\n",
        "float2 = 3.55\n",
        "print(float1 - float2)\n",
        "\n",
        "num = 20\n",
        "flt = 10.5\n",
        "print(num - flt)"
      ]
    },
    {
      "cell_type": "markdown",
      "metadata": {
        "id": "XrocrQpRqOgd"
      },
      "source": [
        "- **Multiplicación**\n",
        "\n",
        "Podemos multiplicar 2 números usando el operador `*`:"
      ]
    },
    {
      "cell_type": "code",
      "execution_count": null,
      "metadata": {
        "id": "jpSBR2FDqeZ4"
      },
      "outputs": [],
      "source": [
        "print(40 * 10)\n",
        "\n",
        "float1 = 5.5\n",
        "float2 = 4.5\n",
        "print(float1 * float2)\n",
        "\n",
        "print(10.2 * 3)"
      ]
    },
    {
      "cell_type": "markdown",
      "metadata": {
        "id": "WdCWdqlLrArz"
      },
      "source": [
        "- **División**\n",
        "\n",
        "Podemos dividir 2 números usando el operador `/`:"
      ]
    },
    {
      "cell_type": "code",
      "execution_count": null,
      "metadata": {
        "id": "VhOnhjxTrUzp"
      },
      "outputs": [],
      "source": [
        "print(40 / 10)\n",
        "\n",
        "float1 = 5.5\n",
        "float2 = 4.5\n",
        "print(float1 / float2)\n",
        "print(12.4 / 2)"
      ]
    },
    {
      "cell_type": "markdown",
      "metadata": {
        "id": "J931uIlGusjn"
      },
      "source": [
        "- **División a la baja**\n",
        "\n",
        "En una división a la baja se redondea al número entero más bajo.\n",
        "\n",
        "Puedes hacer una división a la baja con el operador `//`:"
      ]
    },
    {
      "cell_type": "code",
      "execution_count": null,
      "metadata": {
        "id": "11xbcWWhvoJz"
      },
      "outputs": [],
      "source": [
        "print(43 // 10)\n",
        "\n",
        "float1 = 5.5\n",
        "float2 = 4.5\n",
        "print(5.5 // 4.5)\n",
        "print(12.4 // 2)"
      ]
    },
    {
      "cell_type": "markdown",
      "metadata": {
        "id": "HTfuJa1D7Bnl"
      },
      "source": [
        "- **Módulo**\n",
        "\n",
        "El módulo de un número con otro se puede encontrar usando el operador `%` (El módulo devuelve el resto de la división):"
      ]
    },
    {
      "cell_type": "code",
      "execution_count": null,
      "metadata": {
        "id": "nGWf6RNy7Bnl",
        "outputId": "321b42a2-62f8-4a1a-e9ef-50fbefbfac6e"
      },
      "outputs": [
        {
          "name": "stdout",
          "output_type": "stream",
          "text": [
            "0\n",
            "8\n",
            "2\n",
            "-2\n",
            "1.8999999999999986\n"
          ]
        }
      ],
      "source": [
        "print(10 % 2)\n",
        "\n",
        "twenty_eight = 28\n",
        "print(twenty_eight % 10)\n",
        "\n",
        "print(-28 % 10)  # The remainder is positive if the right-hand operand is positive\n",
        "print(28 % -10)  # The remainder is negative if the right-hand operand is negative\n",
        "print(34.4 % 2.5)  # The remainder can be a float"
      ]
    },
    {
      "cell_type": "markdown",
      "metadata": {
        "id": "X9HfYKVh7Bnm"
      },
      "source": [
        "- **Precedencia**\n",
        "\n",
        "Una expresión aritmética con varios operadores se resolverá con el órden básico de las operaciones, si el orden es igual, se empezará a resolver por la izquerda."
      ]
    },
    {
      "cell_type": "code",
      "execution_count": null,
      "metadata": {
        "id": "dE65pier7Bnm",
        "outputId": "0f66e4ac-bccf-4ab6-e081-fce1d167758d"
      },
      "outputs": [
        {
          "name": "stdout",
          "output_type": "stream",
          "text": [
            "4\n",
            "12.0\n",
            "0.75\n"
          ]
        }
      ],
      "source": [
        "# Different precedence\n",
        "print(10 - 3 * 2)  # Multiplication computed first, followed by subtraction\n",
        "\n",
        "# Same precedence\n",
        "print(3 * 20 / 5)  # Multiplication computed first, followed by division\n",
        "print(3 / 20 * 5)  # Division computed first, followed by multiplication"
      ]
    },
    {
      "cell_type": "markdown",
      "metadata": {
        "id": "V6auC7Rg7Bnm"
      },
      "source": [
        "- **Paréntesis**\n",
        "\n",
        "Una operación dentro de un paréntesis será resuelta primero, ignorando el orden de operadores:"
      ]
    },
    {
      "cell_type": "code",
      "execution_count": null,
      "metadata": {
        "id": "lc596faG7Bnm",
        "outputId": "63341b1d-5196-4492-bb08-288a74a9a790"
      },
      "outputs": [
        {
          "name": "stdout",
          "output_type": "stream",
          "text": [
            "14\n",
            "10.0\n"
          ]
        }
      ],
      "source": [
        "print((10 - 3) * 2)  # Subtraction occurs first\n",
        "print((18 + 2) / (10 % 8))"
      ]
    },
    {
      "cell_type": "markdown",
      "metadata": {
        "id": "iK3RDyeR7Bnm"
      },
      "source": [
        "# OPERADORES DE COMPARACIÓN\n",
        "\n",
        "Los operadores de comparación se usan para comparar valores en términos matemáticos:\n",
        "\n",
        "- `>` - Mayor que\n",
        "- `<` - Menor que\n",
        "- `>=` - Mayor o igual que\n",
        "- `<=` - Menor o igual que\n",
        "- `==` - Igual a\n",
        "- `!=` - No igual a\n",
        "- `is` - Igual a (identidad)\n",
        "- `is not` - No igual a (identidad)"
      ]
    },
    {
      "cell_type": "markdown",
      "metadata": {
        "id": "6NE3u_Rr7Bnm"
      },
      "source": [
        "- Comparaciones\n",
        "\n",
        "El resultado `siempre es un booleano`.\n",
        "Si la comparación es correcta, el resultado será `True`, si no, será `False`.\n",
        "\n",
        "Los operadores `==` y  `!=` comprobarán el `valor` de los dos operandos, mientras que los operadores `is` e `is not` comprobarán que los dos operandos son `EXACTAMENTE EL MISMO OBJETO`."
      ]
    },
    {
      "cell_type": "code",
      "execution_count": null,
      "metadata": {
        "id": "5DWsZ49U7Bnn",
        "outputId": "d581bdd7-b911-4dce-fd9e-87ac6e48e267"
      },
      "outputs": [
        {
          "name": "stdout",
          "output_type": "stream",
          "text": [
            "True\n",
            "False\n",
            "True\n",
            "True\n",
            "False\n",
            "False\n",
            "False\n",
            "False\n"
          ]
        }
      ],
      "source": [
        "num1 = 5\n",
        "num2 = 10\n",
        "num3 = 10\n",
        "list1 = [6,7,8]\n",
        "list2 = [6,7,8]\n",
        "\n",
        "print(num2 > num1)  # 10 is greater than 5\n",
        "print(num1 > num2)  # 5 is not greater than 10\n",
        "\n",
        "print(num2 == num3)  # Both have the same value\n",
        "print(num3 != num1)  # Both have different values\n",
        "\n",
        "print(3 + 10 == 5 + 5)  # Both are not equal\n",
        "print(3 <= 2)  # 3 is not less than or equal to 2\n",
        "\n",
        "print(num2 is not num3)  # Both have the same object\n",
        "print(list1 is list2)  # Both have the different objects"
      ]
    },
    {
      "cell_type": "markdown",
      "metadata": {
        "id": "tl7xUCPNlU4M"
      },
      "source": []
    },
    {
      "cell_type": "markdown",
      "metadata": {
        "id": "GDVAt-LN7Bnn"
      },
      "source": [
        "# OPERADORES DE ASIGNACIÓN\n",
        "\n",
        "Esta categoría de operadores se encargan de asignar valores a una variable. El operador `=` es un operador de asignación, pero no es el único.\n",
        "\n",
        "- `=` - Asignar.\n",
        "- `+=` - Añadir y asignar (es como el `++` en JS).\n",
        "- `-=` - Restar y asignar (es como el `--` en JS).\n",
        "- `*=` - Multiplicar y asignar.\n",
        "- `/=` - Dividir y asignar.\n",
        "- `//=` - Dividir a la baja y asignar.\n",
        "- `**=` - Elevar a la potencia y asignar.\n",
        "- `%=` - Hacer el módulo y asignar.\n",
        "- `|=` - OR y asignar.\n",
        "- `&=` - AND y asignar.\n",
        "- `^=` - XOR y asignar (OR exclusivo).\n",
        "- `>>=` - Right-shift y asignar.\n",
        "- `<<=` - Left-shift y asignar."
      ]
    },
    {
      "cell_type": "markdown",
      "metadata": {
        "id": "iYkWNDtx7Bnn"
      },
      "source": [
        "- **Valores de asignación**\n",
        "\n",
        "Las variables son mutables, por lo que podemos cambiar su valor siempre que queramos."
      ]
    },
    {
      "cell_type": "code",
      "execution_count": null,
      "metadata": {
        "id": "zcM19Wwp7Bnn",
        "outputId": "2fe88f50-29c6-46f4-817b-0dcbb1b51b3b"
      },
      "outputs": [
        {
          "name": "stdout",
          "output_type": "stream",
          "text": [
            "2019\n",
            "2020\n",
            "2021\n"
          ]
        }
      ],
      "source": [
        "year = 2019\n",
        "print(year)\n",
        "\n",
        "year = 2020\n",
        "print(year)\n",
        "\n",
        "year = year + 1  # Using the existing value to create a new one\n",
        "print(year)"
      ]
    },
    {
      "cell_type": "markdown",
      "metadata": {
        "id": "I3uSb_Bn7Bnn"
      },
      "source": [
        "- **Los otros operadores**\n",
        "\n"
      ]
    },
    {
      "cell_type": "code",
      "execution_count": null,
      "metadata": {
        "id": "sY2amPJY7Bno",
        "outputId": "ad0162a8-cfc7-41f3-b756-44cea86a6133"
      },
      "outputs": [
        {
          "name": "stdout",
          "output_type": "stream",
          "text": [
            "10\n",
            "15\n",
            "10\n",
            "20\n",
            "10.0\n",
            "100.0\n"
          ]
        }
      ],
      "source": [
        "num = 10\n",
        "print(num)\n",
        "\n",
        "num += 5\n",
        "print(num)\n",
        "\n",
        "num -= 5\n",
        "print(num)\n",
        "\n",
        "num *= 2\n",
        "print(num)\n",
        "\n",
        "num /= 2\n",
        "print(num)\n",
        "\n",
        "num **= 2\n",
        "print(num)\n"
      ]
    },
    {
      "cell_type": "markdown",
      "metadata": {
        "id": "u18enCNI7Bno"
      },
      "source": [
        "# Operadores Bitwise\n",
        "\n",
        "- `&` - Bitwise AND\n",
        "- `|` - Bitwise OR\n",
        "- `^` - Bitwise XOR\n",
        "- `~` - Bitwise NOT\n",
        "- `<<` - Shift Bits Left\n",
        "- `>>` - Shift Bits Right"
      ]
    },
    {
      "cell_type": "code",
      "execution_count": null,
      "metadata": {
        "id": "C7cw18Xb7Bno"
      },
      "outputs": [],
      "source": [
        "num1 = 10  # Binary value = 01010\n",
        "num2 = 20  # Binary Value = 10100\n",
        "\n",
        "print(num1 & num2)   # 0   -> Binary value = 00000\n",
        "print(num1 | num2)   # 30  -> Binary value = 11110\n",
        "print(num1 ^ num2)   # 30  -> Binary value = 11110\n",
        "print(~num1)         # -11 -> Binary value = -(1011)\n",
        "print(num1 << 3)     # 80  -> Binary value = 0101 0000\n",
        "print(num2 >> 3)     # 2   -> Binary value = 0010"
      ]
    },
    {
      "cell_type": "markdown",
      "metadata": {
        "id": "CjyA4LSA7Bno"
      },
      "source": [
        "# OPERADORES LÓGICOS\n",
        "\n",
        "Los operadores lógicos se usan para `manipular la lógica de expresiones booleanas`.\n",
        "- `AND`\n",
        "- `OR`\n",
        "- `NOT`"
      ]
    },
    {
      "cell_type": "markdown",
      "metadata": {
        "id": "3lm1yFPg7Bno"
      },
      "source": [
        "Las expresiones lógicas son formadas uasndo booleanos y operadores lógicos."
      ]
    },
    {
      "cell_type": "code",
      "execution_count": null,
      "metadata": {
        "id": "kHV420US7Bno",
        "outputId": "f43dc877-0b42-476d-f6d7-1f7664d03037"
      },
      "outputs": [
        {
          "name": "stdout",
          "output_type": "stream",
          "text": [
            "True\n",
            "False\n",
            "True\n"
          ]
        }
      ],
      "source": [
        "# OR Expression\n",
        "my_bool = True or False\n",
        "print(my_bool)\n",
        "\n",
        "# AND Expression\n",
        "my_bool = True and False\n",
        "print(my_bool)\n",
        "\n",
        "# NOT expression\n",
        "my_bool = False\n",
        "print(not my_bool)"
      ]
    },
    {
      "cell_type": "markdown",
      "metadata": {
        "id": "ItpUqb4Q7Bnp"
      },
      "source": [
        "En términos de bit, `True` equivale a `1` y `False` equivale a `0`."
      ]
    },
    {
      "cell_type": "code",
      "execution_count": null,
      "metadata": {
        "id": "mXeHmGrP7Bnp",
        "outputId": "037f0ec7-a974-45c6-b424-47a1ab03411c"
      },
      "outputs": [
        {
          "name": "stdout",
          "output_type": "stream",
          "text": [
            "10\n",
            "0\n"
          ]
        }
      ],
      "source": [
        "print(10 * True)\n",
        "print(10 * False)"
      ]
    },
    {
      "cell_type": "markdown",
      "metadata": {
        "id": "HLXrBsy27Bnp"
      },
      "source": [
        "# OPERACIONES CON CADENAS DE TEXTO\n",
        "\n",
        "Las cadenas de texto son compatibles con los operadores de comparación, se comparan en base a su valor en unicode."
      ]
    },
    {
      "cell_type": "code",
      "execution_count": null,
      "metadata": {
        "id": "npfZhi5I7Bnp",
        "outputId": "6f385954-73d2-4d4e-e525-396adfeb53c3"
      },
      "outputs": [
        {
          "name": "stdout",
          "output_type": "stream",
          "text": [
            "True\n",
            "True\n",
            "False\n",
            "False\n",
            "True\n"
          ]
        }
      ],
      "source": [
        "print('a' < 'b')  # 'a' has a smaller Unicode value\n",
        "\n",
        "house = \"Gryffindor\"\n",
        "house_copy = \"Gryffindor\"\n",
        "\n",
        "print(house == house_copy)\n",
        "\n",
        "new_house = \"Slytherin\"\n",
        "\n",
        "print(house == new_house)\n",
        "\n",
        "print(new_house <= house)\n",
        "\n",
        "print(new_house >= house)"
      ]
    },
    {
      "cell_type": "markdown",
      "metadata": {
        "id": "SactuMKV7Bnp"
      },
      "source": [
        "- **CONCATENACIÓN**\n",
        "\n",
        "El operador `+` se puede usar para concatenar cadenas de texto."
      ]
    },
    {
      "cell_type": "code",
      "execution_count": null,
      "metadata": {
        "id": "9o-6kiWY7Bnp",
        "outputId": "c49c8114-17fc-4f15-8e65-7cfb837e5b18"
      },
      "outputs": [
        {
          "name": "stdout",
          "output_type": "stream",
          "text": [
            "Batman\n"
          ]
        }
      ],
      "source": [
        "first_half = \"Bat\"\n",
        "second_half = \"man\"\n",
        "\n",
        "full_name = first_half + second_half\n",
        "print(full_name)"
      ]
    },
    {
      "cell_type": "markdown",
      "metadata": {
        "id": "MvG_m7St7Bnq"
      },
      "source": [
        "- **MULTIPLICACIÓN**\n",
        "\n",
        "El operador `*` permite multiplicar cadenas, creando una repetición de la cadena."
      ]
    },
    {
      "cell_type": "code",
      "execution_count": null,
      "metadata": {
        "id": "zEr8Wqr97Bnq",
        "outputId": "9b3f334c-0d12-4776-b9b0-1b3760508447"
      },
      "outputs": [
        {
          "name": "stdout",
          "output_type": "stream",
          "text": [
            "hahaha\n"
          ]
        }
      ],
      "source": [
        "print(\"ha\" * 3)"
      ]
    },
    {
      "cell_type": "markdown",
      "metadata": {
        "id": "e1O_AaRn7Bnq"
      },
      "source": [
        "- **BÚSQUEDA**\n",
        "\n",
        "La palabra clave `in` se puede usar para ver si una subcadena está en una cadena de texto. El resultado es un booleano."
      ]
    },
    {
      "cell_type": "code",
      "execution_count": null,
      "metadata": {
        "id": "-jpQOSqS7Bnq",
        "outputId": "9da1c39d-a68f-496f-ee6a-661c00366a69"
      },
      "outputs": [
        {
          "name": "stdout",
          "output_type": "stream",
          "text": [
            "False\n",
            "True\n"
          ]
        }
      ],
      "source": [
        "random_string = \"This is a random string\"\n",
        "\n",
        "print('of' in random_string)  # Check whether 'of' exists in randomString\n",
        "print('random' in random_string)  # 'random' exists!"
      ]
    },
    {
      "cell_type": "markdown",
      "metadata": {
        "id": "C9evbOHc7Bnq"
      },
      "source": [
        "# AGRUPAR VALORES\n",
        "\n",
        "Podemos hacer listas encapsulando valores entre `[]`."
      ]
    },
    {
      "cell_type": "code",
      "execution_count": null,
      "metadata": {
        "id": "ys0zPgYj7Bnq",
        "outputId": "7b5cb3ce-a052-417a-ba4f-656d399bd34c"
      },
      "outputs": [
        {
          "name": "stdout",
          "output_type": "stream",
          "text": [
            "[1, 2.5, 'A string', True]\n"
          ]
        }
      ],
      "source": [
        "my_list = [1, 2.5, \"A string\", True]\n",
        "print(my_list)"
      ]
    },
    {
      "cell_type": "markdown",
      "metadata": {
        "id": "rAnK86CJ7Bnq"
      },
      "source": [
        "Las listas pueden ser indexadas y cortadas como cadenas. el comando `len` funciona tambiém con las listas."
      ]
    },
    {
      "cell_type": "code",
      "execution_count": null,
      "metadata": {
        "id": "b1Isf0Sc7Bnr",
        "outputId": "6765adca-0019-4140-c14d-42e6912a5981"
      },
      "outputs": [
        {
          "name": "stdout",
          "output_type": "stream",
          "text": [
            "A string\n",
            "4\n"
          ]
        }
      ],
      "source": [
        "my_list = [1, 2.5, \"A string\", True]\n",
        "print(my_list[2])\n",
        "print(len(my_list))"
      ]
    },
    {
      "cell_type": "markdown",
      "metadata": {
        "id": "ZLxX0CdR7Bnr"
      },
      "source": [
        "# DECLARACIONES CONDICIONALES\n",
        "\n",
        "Una declaración condicional es una `expresión booleana` que si da como resultado `True` ejecuta una pieza de código.\n",
        "Esto nos permite programar diferentess caminos dependiendo de cómo sea el resultado, `True` o `False`."
      ]
    },
    {
      "cell_type": "markdown",
      "metadata": {
        "id": "ehYkzmAJ7Bnr"
      },
      "source": [
        "Para manejar declaraciones condicionales, Python sigue una estructura particular:"
      ]
    },
    {
      "cell_type": "code",
      "execution_count": null,
      "metadata": {
        "id": "yJ95IRSE7Bnr"
      },
      "outputs": [],
      "source": [
        "if \"condtional statement\" is True:\n",
        "    # execute expression1\n",
        "    pass\n",
        "else:\n",
        "    # execute expression2\n",
        "    pass\n",
        "    "
      ]
    },
    {
      "cell_type": "markdown",
      "metadata": {
        "id": "ybAkNSwA7Bnr"
      },
      "source": [
        "Hay 3 tipos de declaraciones condicionales en Python:\n",
        "- `if`\n",
        "- `if-else`\n",
        "- `if-elif-else`"
      ]
    },
    {
      "cell_type": "markdown",
      "metadata": {
        "id": "KCESkmcK7Bnr"
      },
      "source": [
        "# LA DECLARACIÓN IF\n",
        "\n",
        "La declaración más simple, consta de 2 partes, la condición y el código a ejecutar.\n",
        "\n",
        "`if` condición`:`\n",
        "  -  Código a ejecutar\n",
        "\n",
        "La indentación cumple una función fundamental en python, por lo que es muy importante indentar correctamente el código."
      ]
    },
    {
      "cell_type": "code",
      "execution_count": null,
      "metadata": {
        "id": "-q32IIW17Bnr",
        "outputId": "7fe2d7ed-69c0-4ba5-e21b-b282bea49fac"
      },
      "outputs": [
        {
          "name": "stdout",
          "output_type": "stream",
          "text": [
            "The number is equal to 5\n"
          ]
        }
      ],
      "source": [
        "num = 5\n",
        "\n",
        "if (num == 5):  # The condition is true\n",
        "    print(\"The number is equal to 5\")  # The code is executed\n",
        "\n",
        "if num > 5:  # The condtion is false\n",
        "    print(\"The number is greater than 5\")  # The code is not executed"
      ]
    },
    {
      "cell_type": "markdown",
      "metadata": {
        "id": "3OE2wDJY7Bnr"
      },
      "source": [
        "- Condiciones con operadores lógicos\n",
        "\n",
        "Podemos crear condiciones más complejas usando operadores lógicos."
      ]
    },
    {
      "cell_type": "code",
      "execution_count": null,
      "metadata": {
        "id": "zEBr-QQF7Bns",
        "outputId": "3fa9ae4a-e475-4780-bafb-d99c32f3bea5"
      },
      "outputs": [
        {
          "name": "stdout",
          "output_type": "stream",
          "text": [
            "The number is a multiple of 2, 3, and 4\n",
            "The number is a multiple of 5 and/or 6\n"
          ]
        }
      ],
      "source": [
        "num = 12\n",
        "\n",
        "if num % 2 == 0 and num % 3 == 0 and num % 4 == 0:\n",
        "    # Only works when num is a multiple of 2, 3, and 4\n",
        "    print(\"The number is a multiple of 2, 3, and 4\")\n",
        "\n",
        "if (num % 5 == 0 or num % 6 == 0):\n",
        "    # Only works when num is either a multiple of 5 or 6\n",
        "    print(\"The number is a multiple of 5 and/or 6\")"
      ]
    },
    {
      "cell_type": "markdown",
      "metadata": {
        "id": "8vSPfFPQ7Bns"
      },
      "source": [
        "- if anidados\n",
        "\n",
        "Puedes meter if dentro de otros"
      ]
    },
    {
      "cell_type": "code",
      "execution_count": null,
      "metadata": {
        "id": "eyDWgbkj7Bns",
        "outputId": "4b10287c-f917-48ba-8216-eade8f40ec9d"
      },
      "outputs": [
        {
          "name": "stdout",
          "output_type": "stream",
          "text": [
            "The number is in the 60-70 range\n"
          ]
        }
      ],
      "source": [
        "num = 63\n",
        "if num >= 0 and num <= 100:\n",
        "    if num >= 50 and num <= 75:\n",
        "        if num >= 60 and num <= 70:\n",
        "            print(\"The number is in the 60-70 range\")"
      ]
    },
    {
      "cell_type": "markdown",
      "metadata": {
        "id": "LVFKSQG67Bns"
      },
      "source": [
        "- Crear y editar valores\n",
        "\n",
        "En un condicional podemos crear o editar variables"
      ]
    },
    {
      "cell_type": "code",
      "execution_count": null,
      "metadata": {
        "id": "KM5u6h137Bns",
        "outputId": "f0ea6e91-938f-4b73-fe2e-d14dd2f17cb0"
      },
      "outputs": [
        {
          "name": "stdout",
          "output_type": "stream",
          "text": [
            "20\n",
            "100\n"
          ]
        }
      ],
      "source": [
        "num = 10\n",
        "if num > 5:\n",
        "    num = 20  # Assigning a new value to num\n",
        "    new_num = num * 5  # Creating a new value called newNum\n",
        "\n",
        "# The if condition ends, but the changes made inside it remain\n",
        "print(num)\n",
        "print(new_num)"
      ]
    },
    {
      "cell_type": "markdown",
      "metadata": {
        "id": "gCzccRMH7Bns"
      },
      "source": [
        "# LA DECLARACIÓN IF-ELSE\n",
        "\n",
        "Podemos usar esta estructura cuando queremos tener `varias alternativas` a la respuesta de un condicional.\n",
        "\n",
        "if `condicion`:\n",
        "- Código\n",
        "\n",
        "else:\n",
        "\n",
        "- Código\n",
        "\n",
        "\n",
        "Si la condición devuelve `false` se ejecuta el código del `else`."
      ]
    },
    {
      "cell_type": "code",
      "execution_count": null,
      "metadata": {
        "id": "llRH93EQ7Bns",
        "outputId": "4d8b8cf5-4f87-47af-ef3a-34976d21dffc"
      },
      "outputs": [
        {
          "name": "stdout",
          "output_type": "stream",
          "text": [
            "The number is greater than 50\n"
          ]
        }
      ],
      "source": [
        "num = 60\n",
        "\n",
        "if num <= 50:\n",
        "    print(\"The number is less than or equal to 50\")\n",
        "else:\n",
        "    print(\"The number is greater than 50\")"
      ]
    },
    {
      "cell_type": "markdown",
      "metadata": {
        "id": "MEUjuBi87Bnt"
      },
      "source": [
        "- Expresiones condicionales\n",
        "\n",
        "Las expresiones condicionales devuelven un output basada en la condición que pongames, este output se puede almacenar en una variable.\n",
        "\n",
        "Un condicional se puede escribir de la siguiente manera:\n",
        "- output_value1 `if` condition `else` output_value2"
      ]
    },
    {
      "cell_type": "code",
      "execution_count": null,
      "metadata": {
        "id": "qZCf-VX-7Bnt",
        "outputId": "de735cf8-3eed-44eb-b69d-6e3cc6099839"
      },
      "outputs": [
        {
          "name": "stdout",
          "output_type": "stream",
          "text": [
            "The number is greater than 50\n"
          ]
        }
      ],
      "source": [
        "num = 60\n",
        "\n",
        "output = \"The number is less than or equal to 50\" \\\n",
        "    if num <= 50 else \"The number is greater than 50\"\n",
        "\n",
        "print(output)"
      ]
    },
    {
      "cell_type": "markdown",
      "metadata": {
        "id": "Le_3H2Jv7Bnt"
      },
      "source": [
        "# LA DECLARACIÓN IF-ELIF-ELSE\n",
        "\n",
        "Para las condiciones que tengan más de 2 alternativas, extiste el elif, con el cual podemos añadir opciones si falla el if previo.\n",
        "\n",
        "if `condición`:\n",
        "\n",
        "- Código\n",
        "\n",
        "elif `condición2`:\n",
        "\n",
        "- Código\n",
        "\n",
        "...\n",
        "\n",
        "else: \n",
        "\n",
        "- Código"
      ]
    },
    {
      "cell_type": "code",
      "execution_count": null,
      "metadata": {
        "id": "m0XeZy_87Bnt",
        "outputId": "2e185622-91c5-47bc-d740-37a24f5c3ea7"
      },
      "outputs": [
        {
          "name": "stdout",
          "output_type": "stream",
          "text": [
            "Stop\n"
          ]
        }
      ],
      "source": [
        "light = \"Red\"\n",
        "\n",
        "if light == \"Green\":\n",
        "    print(\"Go\")\n",
        "\n",
        "elif light == \"Yellow\":\n",
        "    print(\"Caution\")\n",
        "\n",
        "elif light == \"Red\":\n",
        "    print(\"Stop\")\n",
        "\n",
        "else:\n",
        "    print(\"Incorrect light signal\")"
      ]
    },
    {
      "cell_type": "markdown",
      "metadata": {
        "id": "tb6I2Nsx7Bnt"
      },
      "source": [
        "- Ejemplo con múltiples `elif`:"
      ]
    },
    {
      "cell_type": "code",
      "execution_count": null,
      "metadata": {
        "id": "ZQbEQGt57Bnt",
        "outputId": "711d5273-c91e-404f-a592-7a319b350ce6"
      },
      "outputs": [
        {
          "name": "stdout",
          "output_type": "stream",
          "text": [
            "Five\n"
          ]
        }
      ],
      "source": [
        "num = 5\n",
        "\n",
        "if num == 0:\n",
        "    print(\"Zero\")\n",
        "elif num == 1:\n",
        "    print(\"One\")\n",
        "elif num == 2:\n",
        "    print(\"Two\")\n",
        "elif num == 3:\n",
        "    print(\"Three\")\n",
        "elif num == 4:\n",
        "    print(\"Four\")\n",
        "elif num == 5:\n",
        "    print(\"Five\")\n",
        "elif num == 6:\n",
        "    print(\"Six\")\n",
        "elif num == 7:\n",
        "    print(\"Seven\")\n",
        "elif num == 8:\n",
        "    print(\"Eight\")\n",
        "elif num == 9:\n",
        "    print(\"Nine\")"
      ]
    },
    {
      "cell_type": "markdown",
      "metadata": {
        "id": "5iIYEH8i7Bnu"
      },
      "source": [
        "En la estructura de múltiples `if`s todos los casos son evaluados y se ejecutan en el caso de que toque que se ejecuten, mientras que en la estructura `if-elif-else`, en el momento que se ejecuta una condición, `no se evalúan las demás`."
      ]
    },
    {
      "cell_type": "markdown",
      "metadata": {
        "id": "De553ipKBMqL"
      },
      "source": [
        "# EJEMPLOS A PARTE"
      ]
    },
    {
      "cell_type": "code",
      "execution_count": null,
      "metadata": {
        "colab": {
          "base_uri": "https://localhost:8080/"
        },
        "id": "2nSktA288KZo",
        "outputId": "4d43675e-126f-4a07-8686-7491b372cc0b"
      },
      "outputs": [
        {
          "name": "stdout",
          "output_type": "stream",
          "text": [
            "Holaextraño\n",
            " \n",
            "Hola extraño\n"
          ]
        }
      ],
      "source": [
        "print('Hola', end='')\n",
        "print('extraño')\n",
        "\n",
        "print(' ')\n",
        "\n",
        "print('Hola', end=' ')\n",
        "print('extraño')"
      ]
    },
    {
      "cell_type": "code",
      "execution_count": null,
      "metadata": {
        "id": "Tqoebix57Bnu",
        "outputId": "da019562-8865-4254-bfe6-2ebbc9ae64ca"
      },
      "outputs": [
        {
          "name": "stdout",
          "output_type": "stream",
          "text": [
            "86\n"
          ]
        }
      ],
      "source": [
        "my_string = \"0123456789\"\n",
        "print(my_string[-2: -6: -2])"
      ]
    }
  ],
  "metadata": {
    "colab": {
      "collapsed_sections": [
        "-ctOstfs5HBp",
        "ej42hTB-9RFx",
        "Xk7DO1Dj_wHJ",
        "UANULwzFADGh",
        "9fm0goysAJuZ",
        "Ps7Pbx9dA3Ak",
        "YMLRFyI6B_oq",
        "YfUfC_S0Fekj",
        "OCFryElMHIp0",
        "RDhMm2VVaSGN",
        "PtzogD9kaa_l",
        "scBOOnVibG8O",
        "J25BXC-Aon5U",
        "De553ipKBMqL"
      ],
      "provenance": [],
      "include_colab_link": true
    },
    "kernelspec": {
      "display_name": "Python 3.9.6 64-bit",
      "language": "python",
      "name": "python3"
    },
    "language_info": {
      "codemirror_mode": {
        "name": "ipython",
        "version": 3
      },
      "file_extension": ".py",
      "mimetype": "text/x-python",
      "name": "python",
      "nbconvert_exporter": "python",
      "pygments_lexer": "ipython3",
      "version": "3.9.6"
    },
    "vscode": {
      "interpreter": {
        "hash": "31f2aee4e71d21fbe5cf8b01ff0e069b9275f58929596ceb00d14d90e3e16cd6"
      }
    }
  },
  "nbformat": 4,
  "nbformat_minor": 0
}